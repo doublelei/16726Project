{
 "cells": [
  {
   "cell_type": "code",
   "execution_count": 2,
   "metadata": {},
   "outputs": [],
   "source": [
    "import argparse\n",
    "import json\n",
    "import os\n",
    "\n",
    "import cv2\n",
    "import numpy as np\n",
    "import torch\n",
    "import matplotlib.pyplot as plt\n",
    "\n",
    "from utils.common import tti\n",
    "from utils.uv_renderer import UVRenderer\n",
    "\n",
    "import models\n",
    "from models.renderer import Renderer\n",
    "from models.generator import Generator\n",
    "import pickle\n",
    "import smplx\n",
    "\n",
    "\n",
    "from utils.bbox import get_ltrb_bbox, crop_resize_verts\n",
    "from utils.common import get_rotation_matrix, rotate_verts, to_sigm"
   ]
  },
  {
   "cell_type": "markdown",
   "metadata": {},
   "source": [
    "#### Hyperparameters"
   ]
  },
  {
   "cell_type": "code",
   "execution_count": 3,
   "metadata": {},
   "outputs": [],
   "source": [
    "device = torch.device(\"cuda:0\")\n",
    "checkpoint_path = \"./data/checkpoint/generative_model.pth\"\n",
    "smplx_dict_path = \"./data/inference_samples/azure_01/00_smplx.pkl\"\n",
    "smplx_model_dir = \"./data/smplx/\""
   ]
  },
  {
   "cell_type": "markdown",
   "metadata": {},
   "source": [
    "#### Helper Functions"
   ]
  },
  {
   "cell_type": "code",
   "execution_count": 4,
   "metadata": {},
   "outputs": [],
   "source": [
    "def load_model(checkpoint_path='./data/checkpoints/generative_model.pth', device='cuda:0'):\n",
    "    ainp_path = 'data/spectral_texture16.pth'\n",
    "    ainp_scales = [64, 128, 256, 512]\n",
    "\n",
    "    ainp_tensor = torch.load(ainp_path)\n",
    "    generator = Generator(ainp_tensor=ainp_tensor, ainp_scales=ainp_scales).to(device)\n",
    "    renderer = Renderer().to(device)\n",
    "\n",
    "    checkpoint = torch.load(checkpoint_path)\n",
    "    generator.load_state_dict(checkpoint['g'])\n",
    "    renderer.load_state_dict(checkpoint['r'])\n",
    "\n",
    "    generator.eval()\n",
    "    renderer.eval()\n",
    "\n",
    "    return renderer, generator\n",
    "\n",
    "def build_smplx_model_dict(smplx_model_dir, device):\n",
    "    gender2filename = dict(neutral='SMPLX_NEUTRAL.npz', male='SMPLX_MALE.npz', female='SMPLX_FEMALE.npz')\n",
    "    gender2path = {k:os.path.join(smplx_model_dir, v) for (k, v) in gender2filename.items()}\n",
    "    gender2model = {k:smplx.body_models.SMPLX(v).to(device) for (k, v) in gender2path.items()}\n",
    "\n",
    "    return gender2model"
   ]
  },
  {
   "cell_type": "markdown",
   "metadata": {},
   "source": [
    "#### Load Models"
   ]
  },
  {
   "cell_type": "code",
   "execution_count": 5,
   "metadata": {},
   "outputs": [
    {
     "name": "stderr",
     "output_type": "stream",
     "text": [
      "/home/ubuntu/anaconda3/envs/pytorch3d/lib/python3.8/site-packages/torch/nn/functional.py:3060: UserWarning: Default upsampling behavior when mode=bilinear is changed to align_corners=False since 0.4.0. Please specify align_corners=True if the old behavior is desired. See the documentation of nn.Upsample for details.\n",
      "  warnings.warn(\"Default upsampling behavior when mode={} is changed \"\n"
     ]
    }
   ],
   "source": [
    "renderer, generator = load_model(checkpoint_path = checkpoint_path)\n",
    "uv_renderer = UVRenderer(H = 512, W = 512).to(device)\n",
    "smplx_models_dict = build_smplx_model_dict(smplx_model_dir, device)\n",
    "v_inds = torch.LongTensor(np.load('./data/v_inds.npy')).to(device)"
   ]
  },
  {
   "cell_type": "markdown",
   "metadata": {},
   "source": [
    "#### Generate Texture from Generator"
   ]
  },
  {
   "cell_type": "code",
   "execution_count": 6,
   "metadata": {},
   "outputs": [],
   "source": [
    "z_val = [models.styleganv2.modules.make_noise(batch=1, latent_dim=512, n_noise=1, device=device)]\n",
    "ntexture = generator(z_val)\n",
    "#ntexture = torch.load(\"./data/spectral_texture16.pth\", map_location=device)"
   ]
  },
  {
   "cell_type": "markdown",
   "metadata": {},
   "source": [
    "#### Generate Mesh & Camera Parameters from SMPLX"
   ]
  },
  {
   "cell_type": "code",
   "execution_count": 7,
   "metadata": {},
   "outputs": [
    {
     "name": "stdout",
     "output_type": "stream",
     "text": [
      "dict_keys(['betas', 'expressions', 'global_orient', 'transl', 'body_pose', 'jaw_pose', 'leye_pose', 'reye_pose', 'left_hand_pose', 'right_hand_pose', 'camera_intrinsics', 'gender'])\n",
      "SMPLXOutput(vertices=tensor([[[ 0.1204, -0.6505,  1.4245],\n",
      "         [ 0.1242, -0.6490,  1.4231],\n",
      "         [ 0.1246, -0.6505,  1.4226],\n",
      "         ...,\n",
      "         [ 0.0129, -0.6639,  1.3761],\n",
      "         [ 0.0153, -0.6640,  1.3767],\n",
      "         [ 0.0177, -0.6642,  1.3768]]], device='cuda:0',\n",
      "       grad_fn=<AsStridedBackward>), joints=tensor([[[ 0.0796, -0.0595,  1.5206],\n",
      "         [ 0.1356,  0.0277,  1.5478],\n",
      "         [ 0.0305,  0.0408,  1.5501],\n",
      "         [ 0.0781, -0.1671,  1.5463],\n",
      "         [ 0.1767,  0.4162,  1.6303],\n",
      "         [ 0.0070,  0.4150,  1.6152],\n",
      "         [ 0.0864, -0.3103,  1.5453],\n",
      "         [ 0.1322,  0.8136,  1.7428],\n",
      "         [ 0.0443,  0.8225,  1.7368],\n",
      "         [ 0.0736, -0.3594,  1.5158],\n",
      "         [ 0.1892,  0.8733,  1.6187],\n",
      "         [-0.0252,  0.8850,  1.6163],\n",
      "         [ 0.0599, -0.5166,  1.5171],\n",
      "         [ 0.1105, -0.4329,  1.5051],\n",
      "         [ 0.0286, -0.4309,  1.5181],\n",
      "         [ 0.0730, -0.6409,  1.4289],\n",
      "         [ 0.2467, -0.4713,  1.4729],\n",
      "         [-0.1037, -0.4595,  1.5087],\n",
      "         [ 0.3456, -0.2492,  1.5669],\n",
      "         [-0.1817, -0.2156,  1.5907],\n",
      "         [ 0.2468, -0.0418,  1.4362],\n",
      "         [-0.0839, -0.0255,  1.4508],\n",
      "         [ 0.0546, -0.6425,  1.4384],\n",
      "         [ 0.0791, -0.6630,  1.3532],\n",
      "         [ 0.0166, -0.6655,  1.3641],\n",
      "         [ 0.1888,  0.0357,  1.4002],\n",
      "         [ 0.1723,  0.0639,  1.3991],\n",
      "         [ 0.1643,  0.0753,  1.4176],\n",
      "         [ 0.2072,  0.0533,  1.4002],\n",
      "         [ 0.1952,  0.0811,  1.4081],\n",
      "         [ 0.1867,  0.0896,  1.4293],\n",
      "         [ 0.2480,  0.0537,  1.4265],\n",
      "         [ 0.2417,  0.0708,  1.4356],\n",
      "         [ 0.2325,  0.0784,  1.4514],\n",
      "         [ 0.2308,  0.0554,  1.4128],\n",
      "         [ 0.2162,  0.0793,  1.4210],\n",
      "         [ 0.2045,  0.0858,  1.4414],\n",
      "         [ 0.2024, -0.0165,  1.4323],\n",
      "         [ 0.1749, -0.0021,  1.4340],\n",
      "         [ 0.1553,  0.0152,  1.4292],\n",
      "         [-0.0172,  0.0328,  1.3981],\n",
      "         [ 0.0058,  0.0551,  1.3917],\n",
      "         [ 0.0198,  0.0642,  1.4077],\n",
      "         [-0.0301,  0.0545,  1.4001],\n",
      "         [-0.0099,  0.0786,  1.4012],\n",
      "         [ 0.0053,  0.0859,  1.4187],\n",
      "         [-0.0622,  0.0673,  1.4342],\n",
      "         [-0.0496,  0.0822,  1.4400],\n",
      "         [-0.0352,  0.0879,  1.4522],\n",
      "         [-0.0488,  0.0636,  1.4170],\n",
      "         [-0.0274,  0.0833,  1.4186],\n",
      "         [-0.0098,  0.0883,  1.4347],\n",
      "         [-0.0354, -0.0122,  1.4380],\n",
      "         [-0.0059, -0.0026,  1.4356],\n",
      "         [ 0.0153,  0.0101,  1.4259],\n",
      "         [ 0.0392, -0.6151,  1.3189],\n",
      "         [ 0.0120, -0.6670,  1.3520],\n",
      "         [ 0.0783, -0.6635,  1.3397],\n",
      "         [-0.0079, -0.6583,  1.4537],\n",
      "         [ 0.1331, -0.6584,  1.4257],\n",
      "         [ 0.1614,  0.8821,  1.5408],\n",
      "         [ 0.2271,  0.8781,  1.5971],\n",
      "         [ 0.1448,  0.8474,  1.8015],\n",
      "         [ 0.0040,  0.8920,  1.5408],\n",
      "         [-0.0602,  0.8862,  1.6053],\n",
      "         [ 0.0472,  0.8669,  1.7951],\n",
      "         [ 0.1319,  0.0379,  1.4307],\n",
      "         [ 0.1546,  0.0842,  1.4384],\n",
      "         [ 0.1757,  0.0933,  1.4529],\n",
      "         [ 0.1907,  0.0857,  1.4605],\n",
      "         [ 0.2200,  0.0833,  1.4664],\n",
      "         [ 0.0448,  0.0259,  1.4239],\n",
      "         [ 0.0343,  0.0712,  1.4244],\n",
      "         [ 0.0234,  0.0893,  1.4379],\n",
      "         [ 0.0087,  0.0866,  1.4494],\n",
      "         [-0.0177,  0.0899,  1.4637],\n",
      "         [-0.0102, -0.6740,  1.3795],\n",
      "         [-0.0048, -0.6856,  1.3587],\n",
      "         [ 0.0069, -0.6854,  1.3421],\n",
      "         [ 0.0210, -0.6815,  1.3326],\n",
      "         [ 0.0339, -0.6763,  1.3297],\n",
      "         [ 0.0522, -0.6756,  1.3265],\n",
      "         [ 0.0656, -0.6799,  1.3250],\n",
      "         [ 0.0820, -0.6827,  1.3292],\n",
      "         [ 0.0985, -0.6819,  1.3407],\n",
      "         [ 0.1100, -0.6696,  1.3583],\n",
      "         [ 0.0427, -0.6606,  1.3296],\n",
      "         [ 0.0412, -0.6475,  1.3243],\n",
      "         [ 0.0399, -0.6353,  1.3194],\n",
      "         [ 0.0388, -0.6229,  1.3153],\n",
      "         [ 0.0309, -0.6163,  1.3416],\n",
      "         [ 0.0360, -0.6131,  1.3373],\n",
      "         [ 0.0418, -0.6105,  1.3350],\n",
      "         [ 0.0482, -0.6128,  1.3354],\n",
      "         [ 0.0546, -0.6156,  1.3376],\n",
      "         [ 0.0029, -0.6641,  1.3627],\n",
      "         [ 0.0098, -0.6669,  1.3509],\n",
      "         [ 0.0192, -0.6660,  1.3488],\n",
      "         [ 0.0281, -0.6608,  1.3514],\n",
      "         [ 0.0199, -0.6581,  1.3519],\n",
      "         [ 0.0108, -0.6581,  1.3546],\n",
      "         [ 0.0638, -0.6595,  1.3450],\n",
      "         [ 0.0717, -0.6642,  1.3393],\n",
      "         [ 0.0813, -0.6644,  1.3381],\n",
      "         [ 0.0916, -0.6610,  1.3470],\n",
      "         [ 0.0812, -0.6556,  1.3422],\n",
      "         [ 0.0716, -0.6562,  1.3428],\n",
      "         [ 0.0231, -0.5898,  1.3616],\n",
      "         [ 0.0275, -0.5945,  1.3480],\n",
      "         [ 0.0359, -0.5958,  1.3402],\n",
      "         [ 0.0420, -0.5949,  1.3388],\n",
      "         [ 0.0483, -0.5955,  1.3382],\n",
      "         [ 0.0592, -0.5936,  1.3426],\n",
      "         [ 0.0688, -0.5886,  1.3537],\n",
      "         [ 0.0618, -0.5807,  1.3506],\n",
      "         [ 0.0511, -0.5771,  1.3474],\n",
      "         [ 0.0445, -0.5769,  1.3480],\n",
      "         [ 0.0381, -0.5775,  1.3494],\n",
      "         [ 0.0290, -0.5814,  1.3558],\n",
      "         [ 0.0239, -0.5899,  1.3619],\n",
      "         [ 0.0372, -0.5908,  1.3470],\n",
      "         [ 0.0432, -0.5904,  1.3456],\n",
      "         [ 0.0494, -0.5904,  1.3450],\n",
      "         [ 0.0685, -0.5887,  1.3538],\n",
      "         [ 0.0515, -0.5842,  1.3483],\n",
      "         [ 0.0448, -0.5842,  1.3486],\n",
      "         [ 0.0383, -0.5846,  1.3503]]], device='cuda:0',\n",
      "       grad_fn=<AddBackward0>), full_pose=None, global_orient=tensor([[-3.0573,  0.0386,  0.1111]], device='cuda:0'), transl=None, v_shaped=tensor([[[ 0.0612,  0.2738, -0.0083],\n",
      "         [ 0.0652,  0.2728, -0.0073],\n",
      "         [ 0.0658,  0.2742, -0.0072],\n",
      "         ...,\n",
      "         [-0.0386,  0.3067,  0.0518],\n",
      "         [-0.0365,  0.3072,  0.0506],\n",
      "         [-0.0342,  0.3077,  0.0499]]], device='cuda:0'), betas=tensor([[ 0.9132, -0.4448, -0.6412, -1.2544, -0.4336, -0.1028, -0.1958, -0.1420,\n",
      "         -0.2530, -0.1752]], device='cuda:0'), body_pose=tensor([[ 1.1879e-01, -2.6323e-02, -1.0167e-01,  5.0623e-02,  3.0386e-02,\n",
      "          3.8166e-02, -1.1070e-01, -3.1011e-04, -2.2806e-02, -1.1637e-02,\n",
      "          2.3339e-01,  6.9279e-02,  7.9623e-02, -2.6597e-01, -5.7711e-02,\n",
      "          2.4301e-01, -3.2323e-02,  3.6060e-02, -1.5648e-01, -5.4506e-02,\n",
      "          8.4262e-02, -1.5718e-01,  6.9024e-02, -9.0982e-02, -6.3856e-02,\n",
      "         -5.7201e-03,  4.2232e-03, -1.6715e-02,  2.2275e-02,  9.6691e-03,\n",
      "          5.9258e-03, -1.1550e-02,  3.1202e-03,  2.9772e-01, -5.2529e-02,\n",
      "         -5.7830e-02,  1.4093e-01, -1.3822e-01, -1.7344e-01,  1.2845e-01,\n",
      "          1.8829e-01,  1.6211e-01, -1.5090e-01, -2.4123e-02,  4.9742e-03,\n",
      "          4.0788e-01, -2.9952e-01, -9.0206e-01,  3.8817e-01,  2.9851e-01,\n",
      "          9.3232e-01,  5.1575e-01, -1.0408e+00,  9.8556e-02,  4.5806e-01,\n",
      "          1.1199e+00, -9.2012e-02, -2.6058e-01,  3.5106e-02, -2.4322e-02,\n",
      "         -2.8476e-01,  5.0089e-02,  1.8732e-02]], device='cuda:0'), left_hand_pose=tensor([[-0.0373,  0.0286, -0.0065,  0.0058,  0.0124, -0.0381,  0.0248, -0.0070,\n",
      "         -0.0320, -0.0206,  0.0107, -0.0948,  0.0042, -0.0038, -0.0116, -0.0076,\n",
      "          0.0063, -0.0385,  0.0744, -0.0402, -0.0012, -0.0768, -0.0026,  0.0061,\n",
      "          0.0120, -0.0228, -0.0528,  0.0243, -0.0298, -0.0679, -0.0348, -0.0281,\n",
      "         -0.0061, -0.0106,  0.0215, -0.0272, -0.1118, -0.0363,  0.0763, -0.0015,\n",
      "         -0.0085, -0.0862, -0.0389, -0.0096,  0.1070]], device='cuda:0'), right_hand_pose=tensor([[-0.0112, -0.0157,  0.0501,  0.0241,  0.0037,  0.0590, -0.0149,  0.0127,\n",
      "         -0.0131, -0.0232,  0.0016,  0.0712,  0.0031, -0.0044,  0.0137,  0.0018,\n",
      "          0.0022,  0.0054,  0.0165,  0.0257, -0.0062, -0.0284, -0.0078, -0.0019,\n",
      "          0.0100,  0.0059,  0.0192,  0.0049,  0.0226,  0.0423, -0.0155,  0.0105,\n",
      "         -0.0040, -0.0060, -0.0100,  0.0065,  0.0066, -0.0162, -0.0001, -0.0047,\n",
      "          0.0146, -0.0084, -0.0006,  0.0157, -0.0043]], device='cuda:0'), expression=Parameter containing:\n",
      "tensor([[0., 0., 0., 0., 0., 0., 0., 0., 0., 0.]], device='cuda:0',\n",
      "       requires_grad=True), jaw_pose=tensor([[ 0.0665,  0.0227, -0.0022]], device='cuda:0'))\n"
     ]
    }
   ],
   "source": [
    "with open(smplx_dict_path, 'rb') as f:\n",
    "        smpl_params = pickle.load(f, encoding='latin1')\n",
    "print (smpl_params.keys())\n",
    "\n",
    "gender = smpl_params['gender']\n",
    "\n",
    "for k, v in smpl_params.items():\n",
    "    if type(v) == np.ndarray:\n",
    "        if 'hand_pose' in k:\n",
    "            v = v[:, :6]\n",
    "        smpl_params[k] = torch.FloatTensor(v).to(device)\n",
    "\n",
    "smpl_output = smplx_models_dict[gender](**smpl_params)\n",
    "print (smpl_output)\n",
    "vertices = smpl_output.vertices\n",
    "vertices = vertices[:, v_inds]\n",
    "K = smpl_params['camera_intrinsics'].unsqueeze(0)\n",
    "vertices = torch.bmm(vertices, K.transpose(1, 2))\n",
    "\n",
    "ltrb = get_ltrb_bbox(vertices)\n",
    "vertices, K = crop_resize_verts(vertices, K, ltrb, new_image_size=512)"
   ]
  },
  {
   "cell_type": "markdown",
   "metadata": {},
   "source": [
    "#### Render Image"
   ]
  },
  {
   "cell_type": "code",
   "execution_count": 8,
   "metadata": {},
   "outputs": [
    {
     "name": "stderr",
     "output_type": "stream",
     "text": [
      "/home/ubuntu/anaconda3/envs/pytorch3d/lib/python3.8/site-packages/torch/nn/functional.py:3060: UserWarning: Default upsampling behavior when mode=bilinear is changed to align_corners=False since 0.4.0. Please specify align_corners=True if the old behavior is desired. See the documentation of nn.Upsample for details.\n",
      "  warnings.warn(\"Default upsampling behavior when mode={} is changed \"\n"
     ]
    }
   ],
   "source": [
    "uv = uv_renderer(vertices, negbg=True)\n",
    "nrender = torch.nn.functional.grid_sample(ntexture, uv.permute(0, 2, 3, 1), align_corners=True)\n",
    "renderer_input = dict(uv=uv, nrender=nrender)\n",
    "\n",
    "with torch.no_grad():\n",
    "    renderer_output = renderer(renderer_input)\n",
    "\n",
    "fake_rgb = renderer_output['fake_rgb']\n",
    "fake_segm = renderer_output['fake_segm']\n",
    "fake_rgb = to_sigm(fake_rgb) * (fake_segm > 0.8)\n",
    "fake_rgb = (tti(fake_rgb) * 255).astype(np.uint8)"
   ]
  },
  {
   "cell_type": "code",
   "execution_count": 9,
   "metadata": {},
   "outputs": [
    {
     "name": "stdout",
     "output_type": "stream",
     "text": [
      "(1024, 1024, 3)\n"
     ]
    }
   ],
   "source": [
    "print (fake_rgb.shape)"
   ]
  },
  {
   "cell_type": "code",
   "execution_count": 11,
   "metadata": {},
   "outputs": [
    {
     "data": {
      "text/plain": [
       "True"
      ]
     },
     "execution_count": 11,
     "metadata": {},
     "output_type": "execute_result"
    },
    {
     "data": {
      "image/png": "[encoded data removed]",
      "text/plain": [
       "<Figure size 432x288 with 1 Axes>"
      ]
     },
     "metadata": {
      "needs_background": "light"
     },
     "output_type": "display_data"
    }
   ],
   "source": [
    "plt.imshow(fake_rgb)\n",
    "cv2.imwrite(\"./rgb.png\", fake_rgb[...,::-1])"
   ]
  }
 ],
 "metadata": {
  "interpreter": {
   "hash": "489f8103ea1727ff2bbdb05041939e114b9a8ded90931d8dc6520c1eb7b7ebf4"
  },
  "kernelspec": {
   "display_name": "Python 3.8.12 ('pytorch3d')",
   "language": "python",
   "name": "python3"
  },
  "language_info": {
   "codemirror_mode": {
    "name": "ipython",
    "version": 3
   },
   "file_extension": ".py",
   "mimetype": "text/x-python",
   "name": "python",
   "nbconvert_exporter": "python",
   "pygments_lexer": "ipython3",
   "version": "3.8.12"
  },
  "orig_nbformat": 4
 },
 "nbformat": 4,
 "nbformat_minor": 2
}
