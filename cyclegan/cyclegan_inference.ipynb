{
 "cells": [
  {
   "cell_type": "code",
   "execution_count": null,
   "metadata": {},
   "outputs": [],
   "source": [
    "import os\n",
    "from options.test_options import TestOptions\n",
    "from data import create_dataset\n",
    "from models import create_model\n",
    "import argparse\n",
    "import matplotlib.pyplot as plt\n",
    "import torchvision.io as io\n",
    "from PIL import Image\n",
    "import torchvision.transforms as transforms\n",
    "import torch"
   ]
  },
  {
   "cell_type": "markdown",
   "metadata": {},
   "source": [
    "#### Load Model"
   ]
  },
  {
   "cell_type": "code",
   "execution_count": null,
   "metadata": {},
   "outputs": [],
   "source": [
    "parser = argparse.ArgumentParser(formatter_class=argparse.ArgumentDefaultsHelpFormatter)  # get test options"
   ]
  },
  {
   "cell_type": "code",
   "execution_count": null,
   "metadata": {},
   "outputs": [],
   "source": [
    "# For CycleGAN\n",
    "parser.model = \"test\"\n",
    "parser.name = \"surreal2agora\"\n",
    "\n",
    "# for descriminatro\n",
    "parser.lambda_identity = 0.5\n",
    "parser.n_layers_D = 3\n",
    "parser.pool_size = 50\n",
    "parser.gan_mode = \"lsgan\"\n",
    "parser.lr = 0.0002\n",
    "parser.beta1 = 0.5\n",
    "parser.lr_policy = \"linear\"\n",
    "parser.lr_decay_iters = 50\n",
    "\n",
    "parser.gpu_ids = [0]\n",
    "parser.isTrain = False\n",
    "parser.checkpoints_dir = \"./checkpoints\" # the directory where our checkpoints are stored\n",
    "parser.preprocess = \"none\"\n",
    "parser.input_nc = 3\n",
    "parser.output_nc = 3\n",
    "parser.ngf = 64\n",
    "parser.ndf = 64\n",
    "parser.netD = \"basic\"\n",
    "parser.netG = \"resnet_9blocks\"\n",
    "parser.norm = \"instance\"\n",
    "parser.no_dropout = True\n",
    "parser.init_type = \"normal\"\n",
    "parser.init_gain = 0.02\n",
    "parser.load_iter = 0\n",
    "parser.epoch = 113 # the epoch of checkpoint we will be using\n",
    "parser.verbose = True\n",
    "parser.num_threads = 0   # test code only supports num_threads = 0\n",
    "parser.batch_size = 1    # test code only supports batch_size = 1\n",
    "parser.serial_batches = True  # disable data shuffling; comment this line if results on randomly chosen images are needed.\n",
    "parser.no_flip = True    # no flip; comment this line if results on flipped images are needed.\n",
    "parser.display_id = -1   # no visdom display; the test code saves the results to a HTML file."
   ]
  },
  {
   "cell_type": "code",
   "execution_count": null,
   "metadata": {},
   "outputs": [],
   "source": [
    "model = create_model(parser)      # create a model given opt.model and other options\n",
    "model.setup(parser)               # regular setup: load and print networks; create schedulers\n",
    "model.eval()"
   ]
  },
  {
   "cell_type": "markdown",
   "metadata": {},
   "source": [
    "#### Generate Images & Compute Loss"
   ]
  },
  {
   "cell_type": "code",
   "execution_count": null,
   "metadata": {},
   "outputs": [],
   "source": [
    "# Image Generation\n",
    "# real_surreal: B, 3, 256, 256\n",
    "fake_agora = model.netG_A(real_surreal)  # B, 3, 256, 256\n",
    "recon_surreal = model.netG_B(fake_agora)   # B, 3, 256, 256\n",
    "\n",
    "# Loss\n",
    "fake_loss = torch.mean(model.netD_B(fake_agora.detach())**2)\n",
    "real_loss = torch.mean((model.netD_B(real_surreal)-torch.ones_like(model.netD_B(real_surreal)))**2)\n",
    "recon_loss = torch.mean(torch.abs(recon_surreal - real_surreal))\n",
    "loss = fake_loss + real_loss + model.lambda_identity*recon_loss\n"
   ]
  }
 ],
 "metadata": {
  "language_info": {
   "name": "python"
  },
  "orig_nbformat": 4
 },
 "nbformat": 4,
 "nbformat_minor": 2
}
