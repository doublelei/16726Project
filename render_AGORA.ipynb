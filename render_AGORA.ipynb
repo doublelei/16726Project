{
  "cells": [
    {
      "cell_type": "markdown",
      "metadata": {
        "colab_type": "text",
        "id": "view-in-github"
      },
      "source": [
        "<a href=\"https://colab.research.google.com/github/doublelei/16726Project/blob/main/render_AGORA.ipynb\" target=\"_parent\"><img src=\"https://colab.research.google.com/assets/colab-badge.svg\" alt=\"Open In Colab\"/></a>"
      ]
    },
    {
      "cell_type": "code",
      "execution_count": 1,
      "metadata": {
        "id": "SqEkaD-VG74a"
      },
      "outputs": [],
      "source": [
        "# Copyright (c) Facebook, Inc. and its affiliates. All rights reserved."
      ]
    },
    {
      "cell_type": "markdown",
      "metadata": {
        "id": "Bnj3THhzfBLf"
      },
      "source": [
        "## Import modules"
      ]
    },
    {
      "cell_type": "code",
      "execution_count": 2,
      "metadata": {
        "id": "OkhOYtzwG74g"
      },
      "outputs": [],
      "source": [
        "import os\n",
        "import sys\n",
        "import torch\n",
        "need_pytorch3d=False\n",
        "try:\n",
        "    import pytorch3d\n",
        "except ModuleNotFoundError:\n",
        "    need_pytorch3d=True\n",
        "if need_pytorch3d:\n",
        "    if torch.__version__.startswith(\"1.10.\") and sys.platform.startswith(\"linux\"):\n",
        "        # We try to install PyTorch3D via a released wheel.\n",
        "        pyt_version_str=torch.__version__.split(\"+\")[0].replace(\".\", \"\")\n",
        "        version_str=\"\".join([\n",
        "            f\"py3{sys.version_info.minor}_cu\",\n",
        "            torch.version.cuda.replace(\".\",\"\"),\n",
        "            f\"_pyt{pyt_version_str}\"\n",
        "        ])\n",
        "        !pip install pytorch3d -f https://dl.fbaipublicfiles.com/pytorch3d/packaging/wheels/{version_str}/download.html\n",
        "    else:\n",
        "        # We try to install PyTorch3D from source.\n",
        "        !curl -LO https://github.com/NVIDIA/cub/archive/1.10.0.tar.gz\n",
        "        !tar xzf 1.10.0.tar.gz\n",
        "        os.environ[\"CUB_HOME\"] = os.getcwd() + \"/cub-1.10.0\"\n",
        "        !pip install 'git+https://github.com/facebookresearch/pytorch3d.git@stable'"
      ]
    },
    {
      "cell_type": "code",
      "execution_count": 3,
      "metadata": {
        "colab": {
          "base_uri": "https://localhost:8080/"
        },
        "id": "YBL-YGM8G74h",
        "outputId": "e6f40d5e-c31a-4e6d-a753-7f725188d6e8"
      },
      "outputs": [
        {
          "name": "stdout",
          "output_type": "stream",
          "text": [
            "Requirement already satisfied: smplx[all] in /usr/local/lib/python3.7/dist-packages (0.1.28)\n",
            "Requirement already satisfied: torch>=1.0.1.post2 in /usr/local/lib/python3.7/dist-packages (from smplx[all]) (1.10.0+cu111)\n",
            "Requirement already satisfied: numpy>=1.16.2 in /usr/local/lib/python3.7/dist-packages (from smplx[all]) (1.21.5)\n",
            "Requirement already satisfied: open3d-python in /usr/local/lib/python3.7/dist-packages (from smplx[all]) (0.7.0.0)\n",
            "Requirement already satisfied: shapely in /usr/local/lib/python3.7/dist-packages (from smplx[all]) (1.8.1.post1)\n",
            "Requirement already satisfied: matplotlib in /usr/local/lib/python3.7/dist-packages (from smplx[all]) (3.2.2)\n",
            "Requirement already satisfied: pyrender>=0.1.23 in /usr/local/lib/python3.7/dist-packages (from smplx[all]) (0.1.45)\n",
            "Requirement already satisfied: trimesh>=2.37.6 in /usr/local/lib/python3.7/dist-packages (from smplx[all]) (3.10.2)\n",
            "Requirement already satisfied: pyglet>=1.4.10 in /usr/local/lib/python3.7/dist-packages (from pyrender>=0.1.23->smplx[all]) (1.5.0)\n",
            "Requirement already satisfied: scipy in /usr/local/lib/python3.7/dist-packages (from pyrender>=0.1.23->smplx[all]) (1.4.1)\n",
            "Requirement already satisfied: imageio in /usr/local/lib/python3.7/dist-packages (from pyrender>=0.1.23->smplx[all]) (2.4.1)\n",
            "Requirement already satisfied: PyOpenGL==3.1.0 in /usr/local/lib/python3.7/dist-packages (from pyrender>=0.1.23->smplx[all]) (3.1.0)\n",
            "Requirement already satisfied: networkx in /usr/local/lib/python3.7/dist-packages (from pyrender>=0.1.23->smplx[all]) (2.6.3)\n",
            "Requirement already satisfied: six in /usr/local/lib/python3.7/dist-packages (from pyrender>=0.1.23->smplx[all]) (1.15.0)\n",
            "Requirement already satisfied: Pillow in /usr/local/lib/python3.7/dist-packages (from pyrender>=0.1.23->smplx[all]) (7.1.2)\n",
            "Requirement already satisfied: freetype-py in /usr/local/lib/python3.7/dist-packages (from pyrender>=0.1.23->smplx[all]) (2.2.0)\n",
            "Requirement already satisfied: future in /usr/local/lib/python3.7/dist-packages (from pyglet>=1.4.10->pyrender>=0.1.23->smplx[all]) (0.16.0)\n",
            "Requirement already satisfied: typing-extensions in /usr/local/lib/python3.7/dist-packages (from torch>=1.0.1.post2->smplx[all]) (3.10.0.2)\n",
            "Requirement already satisfied: cycler>=0.10 in /usr/local/lib/python3.7/dist-packages (from matplotlib->smplx[all]) (0.11.0)\n",
            "Requirement already satisfied: python-dateutil>=2.1 in /usr/local/lib/python3.7/dist-packages (from matplotlib->smplx[all]) (2.8.2)\n",
            "Requirement already satisfied: pyparsing!=2.0.4,!=2.1.2,!=2.1.6,>=2.0.1 in /usr/local/lib/python3.7/dist-packages (from matplotlib->smplx[all]) (3.0.7)\n",
            "Requirement already satisfied: kiwisolver>=1.0.1 in /usr/local/lib/python3.7/dist-packages (from matplotlib->smplx[all]) (1.3.2)\n",
            "Requirement already satisfied: notebook in /usr/local/lib/python3.7/dist-packages (from open3d-python->smplx[all]) (5.3.1)\n",
            "Requirement already satisfied: widgetsnbextension in /usr/local/lib/python3.7/dist-packages (from open3d-python->smplx[all]) (3.5.2)\n",
            "Requirement already satisfied: ipywidgets in /usr/local/lib/python3.7/dist-packages (from open3d-python->smplx[all]) (7.6.5)\n",
            "Requirement already satisfied: ipython>=4.0.0 in /usr/local/lib/python3.7/dist-packages (from ipywidgets->open3d-python->smplx[all]) (5.5.0)\n",
            "Requirement already satisfied: traitlets>=4.3.1 in /usr/local/lib/python3.7/dist-packages (from ipywidgets->open3d-python->smplx[all]) (5.1.1)\n",
            "Requirement already satisfied: ipython-genutils~=0.2.0 in /usr/local/lib/python3.7/dist-packages (from ipywidgets->open3d-python->smplx[all]) (0.2.0)\n",
            "Requirement already satisfied: jupyterlab-widgets>=1.0.0 in /usr/local/lib/python3.7/dist-packages (from ipywidgets->open3d-python->smplx[all]) (1.0.2)\n",
            "Requirement already satisfied: nbformat>=4.2.0 in /usr/local/lib/python3.7/dist-packages (from ipywidgets->open3d-python->smplx[all]) (5.1.3)\n",
            "Requirement already satisfied: ipykernel>=4.5.1 in /usr/local/lib/python3.7/dist-packages (from ipywidgets->open3d-python->smplx[all]) (4.10.1)\n",
            "Requirement already satisfied: jupyter-client in /usr/local/lib/python3.7/dist-packages (from ipykernel>=4.5.1->ipywidgets->open3d-python->smplx[all]) (5.3.5)\n",
            "Requirement already satisfied: tornado>=4.0 in /usr/local/lib/python3.7/dist-packages (from ipykernel>=4.5.1->ipywidgets->open3d-python->smplx[all]) (5.1.1)\n",
            "Requirement already satisfied: simplegeneric>0.8 in /usr/local/lib/python3.7/dist-packages (from ipython>=4.0.0->ipywidgets->open3d-python->smplx[all]) (0.8.1)\n",
            "Requirement already satisfied: pygments in /usr/local/lib/python3.7/dist-packages (from ipython>=4.0.0->ipywidgets->open3d-python->smplx[all]) (2.6.1)\n",
            "Requirement already satisfied: pexpect in /usr/local/lib/python3.7/dist-packages (from ipython>=4.0.0->ipywidgets->open3d-python->smplx[all]) (4.8.0)\n",
            "Requirement already satisfied: prompt-toolkit<2.0.0,>=1.0.4 in /usr/local/lib/python3.7/dist-packages (from ipython>=4.0.0->ipywidgets->open3d-python->smplx[all]) (1.0.18)\n",
            "Requirement already satisfied: setuptools>=18.5 in /usr/local/lib/python3.7/dist-packages (from ipython>=4.0.0->ipywidgets->open3d-python->smplx[all]) (57.4.0)\n",
            "Requirement already satisfied: pickleshare in /usr/local/lib/python3.7/dist-packages (from ipython>=4.0.0->ipywidgets->open3d-python->smplx[all]) (0.7.5)\n",
            "Requirement already satisfied: decorator in /usr/local/lib/python3.7/dist-packages (from ipython>=4.0.0->ipywidgets->open3d-python->smplx[all]) (4.4.2)\n",
            "Requirement already satisfied: jsonschema!=2.5.0,>=2.4 in /usr/local/lib/python3.7/dist-packages (from nbformat>=4.2.0->ipywidgets->open3d-python->smplx[all]) (4.3.3)\n",
            "Requirement already satisfied: jupyter-core in /usr/local/lib/python3.7/dist-packages (from nbformat>=4.2.0->ipywidgets->open3d-python->smplx[all]) (4.9.2)\n",
            "Requirement already satisfied: importlib-resources>=1.4.0 in /usr/local/lib/python3.7/dist-packages (from jsonschema!=2.5.0,>=2.4->nbformat>=4.2.0->ipywidgets->open3d-python->smplx[all]) (5.4.0)\n",
            "Requirement already satisfied: importlib-metadata in /usr/local/lib/python3.7/dist-packages (from jsonschema!=2.5.0,>=2.4->nbformat>=4.2.0->ipywidgets->open3d-python->smplx[all]) (4.11.2)\n",
            "Requirement already satisfied: pyrsistent!=0.17.0,!=0.17.1,!=0.17.2,>=0.14.0 in /usr/local/lib/python3.7/dist-packages (from jsonschema!=2.5.0,>=2.4->nbformat>=4.2.0->ipywidgets->open3d-python->smplx[all]) (0.18.1)\n",
            "Requirement already satisfied: attrs>=17.4.0 in /usr/local/lib/python3.7/dist-packages (from jsonschema!=2.5.0,>=2.4->nbformat>=4.2.0->ipywidgets->open3d-python->smplx[all]) (21.4.0)\n",
            "Requirement already satisfied: zipp>=3.1.0 in /usr/local/lib/python3.7/dist-packages (from importlib-resources>=1.4.0->jsonschema!=2.5.0,>=2.4->nbformat>=4.2.0->ipywidgets->open3d-python->smplx[all]) (3.7.0)\n",
            "Requirement already satisfied: wcwidth in /usr/local/lib/python3.7/dist-packages (from prompt-toolkit<2.0.0,>=1.0.4->ipython>=4.0.0->ipywidgets->open3d-python->smplx[all]) (0.2.5)\n",
            "Requirement already satisfied: nbconvert in /usr/local/lib/python3.7/dist-packages (from notebook->open3d-python->smplx[all]) (5.6.1)\n",
            "Requirement already satisfied: terminado>=0.8.1 in /usr/local/lib/python3.7/dist-packages (from notebook->open3d-python->smplx[all]) (0.13.3)\n",
            "Requirement already satisfied: jinja2 in /usr/local/lib/python3.7/dist-packages (from notebook->open3d-python->smplx[all]) (2.11.3)\n",
            "Requirement already satisfied: Send2Trash in /usr/local/lib/python3.7/dist-packages (from notebook->open3d-python->smplx[all]) (1.8.0)\n",
            "Requirement already satisfied: pyzmq>=13 in /usr/local/lib/python3.7/dist-packages (from jupyter-client->ipykernel>=4.5.1->ipywidgets->open3d-python->smplx[all]) (22.3.0)\n",
            "Requirement already satisfied: ptyprocess in /usr/local/lib/python3.7/dist-packages (from terminado>=0.8.1->notebook->open3d-python->smplx[all]) (0.7.0)\n",
            "Requirement already satisfied: MarkupSafe>=0.23 in /usr/local/lib/python3.7/dist-packages (from jinja2->notebook->open3d-python->smplx[all]) (2.0.1)\n",
            "Requirement already satisfied: entrypoints>=0.2.2 in /usr/local/lib/python3.7/dist-packages (from nbconvert->notebook->open3d-python->smplx[all]) (0.4)\n",
            "Requirement already satisfied: mistune<2,>=0.8.1 in /usr/local/lib/python3.7/dist-packages (from nbconvert->notebook->open3d-python->smplx[all]) (0.8.4)\n",
            "Requirement already satisfied: bleach in /usr/local/lib/python3.7/dist-packages (from nbconvert->notebook->open3d-python->smplx[all]) (4.1.0)\n",
            "Requirement already satisfied: testpath in /usr/local/lib/python3.7/dist-packages (from nbconvert->notebook->open3d-python->smplx[all]) (0.6.0)\n",
            "Requirement already satisfied: pandocfilters>=1.4.1 in /usr/local/lib/python3.7/dist-packages (from nbconvert->notebook->open3d-python->smplx[all]) (1.5.0)\n",
            "Requirement already satisfied: defusedxml in /usr/local/lib/python3.7/dist-packages (from nbconvert->notebook->open3d-python->smplx[all]) (0.7.1)\n",
            "Requirement already satisfied: packaging in /usr/local/lib/python3.7/dist-packages (from bleach->nbconvert->notebook->open3d-python->smplx[all]) (21.3)\n",
            "Requirement already satisfied: webencodings in /usr/local/lib/python3.7/dist-packages (from bleach->nbconvert->notebook->open3d-python->smplx[all]) (0.5.1)\n"
          ]
        }
      ],
      "source": [
        "# We also install chumpy as it is needed to load the SMPL model pickle file.\n",
        "!pip install smplx[all]"
      ]
    },
    {
      "cell_type": "code",
      "execution_count": 9,
      "metadata": {
        "id": "h8bvCXnsG74i"
      },
      "outputs": [],
      "source": [
        "import os\n",
        "import torch\n",
        "import matplotlib.pyplot as plt\n",
        "import numpy as np\n",
        "import smplx\n",
        "\n",
        "# libraries for reading data from files\n",
        "from scipy.io import loadmat\n",
        "from PIL import Image\n",
        "import pickle\n",
        "\n",
        "# Data structures and functions for rendering\n",
        "from pytorch3d.io import load_obj\n",
        "from pytorch3d.structures import Meshes\n",
        "from pytorch3d.renderer import (\n",
        "    look_at_view_transform,\n",
        "    FoVPerspectiveCameras, \n",
        "    PointLights, \n",
        "    DirectionalLights, \n",
        "    Materials, \n",
        "    RasterizationSettings, \n",
        "    MeshRenderer, \n",
        "    MeshRasterizer,  \n",
        "    SoftPhongShader,\n",
        "    Textures\n",
        ")\n",
        "\n",
        "# add path for demo utils functions \n",
        "import sys\n",
        "import os\n",
        "sys.path.append(os.path.abspath(''))\n",
        "\n",
        "if torch.cuda.is_available():\n",
        "    device = torch.device(\"cuda:0\")\n",
        "    torch.cuda.set_device(device)\n",
        "else:\n",
        "    device = torch.device(\"cpu\")"
      ]
    },
    {
      "cell_type": "code",
      "execution_count": 5,
      "metadata": {
        "colab": {
          "base_uri": "https://localhost:8080/"
        },
        "id": "qOga-RPu4t8m",
        "outputId": "60fd86ab-a0a0-43b9-aaf2-4c19963e6b16"
      },
      "outputs": [
        {
          "name": "stdout",
          "output_type": "stream",
          "text": [
            "Requirement already satisfied: gdown in /usr/local/lib/python3.7/dist-packages (4.4.0)\n",
            "Requirement already satisfied: beautifulsoup4 in /usr/local/lib/python3.7/dist-packages (from gdown) (4.6.3)\n",
            "Requirement already satisfied: requests[socks] in /usr/local/lib/python3.7/dist-packages (from gdown) (2.23.0)\n",
            "Requirement already satisfied: tqdm in /usr/local/lib/python3.7/dist-packages (from gdown) (4.63.0)\n",
            "Requirement already satisfied: six in /usr/local/lib/python3.7/dist-packages (from gdown) (1.15.0)\n",
            "Requirement already satisfied: filelock in /usr/local/lib/python3.7/dist-packages (from gdown) (3.6.0)\n",
            "Requirement already satisfied: idna<3,>=2.5 in /usr/local/lib/python3.7/dist-packages (from requests[socks]->gdown) (2.10)\n",
            "Requirement already satisfied: urllib3!=1.25.0,!=1.25.1,<1.26,>=1.21.1 in /usr/local/lib/python3.7/dist-packages (from requests[socks]->gdown) (1.24.3)\n",
            "Requirement already satisfied: certifi>=2017.4.17 in /usr/local/lib/python3.7/dist-packages (from requests[socks]->gdown) (2021.10.8)\n",
            "Requirement already satisfied: chardet<4,>=3.0.2 in /usr/local/lib/python3.7/dist-packages (from requests[socks]->gdown) (3.0.4)\n",
            "Requirement already satisfied: PySocks!=1.5.7,>=1.5.6 in /usr/local/lib/python3.7/dist-packages (from requests[socks]->gdown) (1.7.1)\n",
            "Retrieving folder list\n",
            "Processing file 1IBVu5GPGYKuPYYlJImlhqEfFFab0s1Ie 10004_w_Amaya_0_0.pkl\n",
            "Processing file 1KxXN-bt3KzTIOru9I6nRXfRxn4zxJ73C ag_trainset_renderpeople_bfh_archviz_5_10_cam02_00000_1280x720.png.npz\n",
            "Processing file 1Dp_dW8nt6blnIAq9u6tgM3PuCH5_0AEg models_smplx_v1_1.zip\n",
            "Processing file 1GVrzqnnZ53a4ZpNsjMFiucnw753sIfzH smplx_uv.obj\n",
            "Processing file 1WtJa2rI5qzSJF8DQmIUu8NBo-5BQxede smplx_uv.png\n",
            "Processing file 1XTHke2VybnTj6_qYzY9HgsZ_dYure3r- texture.png\n",
            "Retrieving folder list completed\n",
            "Building directory structure\n",
            "Building directory structure completed\n",
            "Downloading...\n",
            "From: https://drive.google.com/uc?id=1IBVu5GPGYKuPYYlJImlhqEfFFab0s1Ie\n",
            "To: /content/10004_w_Amaya_0_0.pkl\n",
            "100% 254k/254k [00:00<00:00, 96.2MB/s]\n",
            "Downloading...\n",
            "From: https://drive.google.com/uc?id=1KxXN-bt3KzTIOru9I6nRXfRxn4zxJ73C\n",
            "To: /content/ag_trainset_renderpeople_bfh_archviz_5_10_cam02_00000_1280x720.png.npz\n",
            "100% 1.29M/1.29M [00:00<00:00, 45.7MB/s]\n",
            "Downloading...\n",
            "From: https://drive.google.com/uc?id=1Dp_dW8nt6blnIAq9u6tgM3PuCH5_0AEg\n",
            "To: /content/models_smplx_v1_1.zip\n",
            "100% 870M/870M [00:04<00:00, 181MB/s]\n",
            "Downloading...\n",
            "From: https://drive.google.com/uc?id=1GVrzqnnZ53a4ZpNsjMFiucnw753sIfzH\n",
            "To: /content/smplx_uv.obj\n",
            "100% 1.22M/1.22M [00:00<00:00, 185MB/s]\n",
            "Downloading...\n",
            "From: https://drive.google.com/uc?id=1WtJa2rI5qzSJF8DQmIUu8NBo-5BQxede\n",
            "To: /content/smplx_uv.png\n",
            "100% 288k/288k [00:00<00:00, 68.6MB/s]\n",
            "Downloading...\n",
            "From: https://drive.google.com/uc?id=1XTHke2VybnTj6_qYzY9HgsZ_dYure3r-\n",
            "To: /content/texture.png\n",
            "100% 5.43M/5.43M [00:00<00:00, 89.9MB/s]\n",
            "Download completed\n",
            "Archive:  ./models_smplx_v1_1.zip\n",
            "replace models/smplx/SMPLX_NEUTRAL.npz? [y]es, [n]o, [A]ll, [N]one, [r]ename: N\n"
          ]
        }
      ],
      "source": [
        "!pip install --upgrade --no-cache-dir gdown\n",
        "!gdown https://drive.google.com/drive/folders/18uW2COwfs5Y2qEzFXPpqpU4wYKYzHLbO -O . --folder\n",
        "!unzip ./models_smplx_v1_1.zip"
      ]
    },
    {
      "cell_type": "code",
      "execution_count": 6,
      "metadata": {
        "colab": {
          "base_uri": "https://localhost:8080/"
        },
        "id": "YwEqFGjEwPa1",
        "outputId": "1efd461f-a144-4d7b-a167-9b15efabafae"
      },
      "outputs": [
        {
          "name": "stdout",
          "output_type": "stream",
          "text": [
            "dict_keys(['betas', 'global_orient', 'transl', 'left_hand_pose', 'right_hand_pose', 'jaw_pose', 'leye_pose', 'reye_pose', 'expression', 'body_pose', 'keypoints_3d', 'pose_embedding', 'gender', 'v'])\n"
          ]
        }
      ],
      "source": [
        "model = smplx.create('./models', 'smplx', use_pca=False)\n",
        "with open('./Aec0003-HD2-O01P01-S_0_0.pkl', 'rb') as f:\n",
        "    gt = pickle.load(f, encoding='latin1') \n",
        "print(gt.keys())"
      ]
    },
    {
      "cell_type": "code",
      "execution_count": 7,
      "metadata": {
        "id": "hb5U9Y4twq-c"
      },
      "outputs": [],
      "source": [
        "num_betas = 10\n",
        "smplx_gt = model(\n",
        "        betas=torch.tensor(gt['betas'][:, :num_betas], dtype=torch.float), \n",
        "        global_orient=torch.tensor(gt['global_orient'], dtype=torch.float),\n",
        "        body_pose=torch.tensor(gt['body_pose'], dtype=torch.float),\n",
        "        left_hand_pose=torch.tensor(gt['left_hand_pose'], dtype=torch.float),\n",
        "        right_hand_pose=torch.tensor(gt['right_hand_pose'], dtype=torch.float),\n",
        "        transl=torch.tensor(gt['transl'], dtype=torch.float),\n",
        "        expression=torch.tensor(gt['expression'], dtype=torch.float), \n",
        "        jaw_pose=torch.tensor(gt['jaw_pose'], dtype=torch.float),\n",
        "        leye_pose=torch.tensor(gt['leye_pose'], dtype=torch.float),\n",
        "        reye_pose=torch.tensor(gt['reye_pose'], dtype=torch.float), pose2rot=True)"
      ]
    },
    {
      "cell_type": "code",
      "execution_count": 10,
      "metadata": {
        "id": "gDDcWA9dQFpW"
      },
      "outputs": [],
      "source": [
        "verts, faces, aux = load_obj(\"./smplx_uv.obj\")\n",
        "verts_uvs = aux.verts_uvs[None, ...].to(device)  # (1, V, 2)\n",
        "faces_uvs = faces.textures_idx[None, ...].to(device)  # (1, F, 3)\n",
        "tex_maps = aux.texture_images\n",
        "\n",
        "with Image.open('./texture.png') as image:\n",
        "    np_image = np.asarray(image.convert(\"RGB\")).astype(np.float32)\n",
        "texture_images = torch.from_numpy(np_image / 255.)[None].to(device)\n",
        "\n",
        "# Create a textures object\n",
        "tex = Textures(verts_uvs=verts_uvs, faces_uvs=faces_uvs, maps=texture_images)\n",
        "# Initialise the mesh with textures\n",
        "meshes = Meshes(verts=[smplx_gt.vertices.squeeze().to(device)], faces=[faces.verts_idx.to(device)], textures=tex).to(device)"
      ]
    },
    {
      "cell_type": "markdown",
      "metadata": {
        "id": "tFDz0gf19-n2"
      },
      "source": [
        "### Need to figure out how to combine the caramer parameter to the rendering:"
      ]
    },
    {
      "cell_type": "code",
      "execution_count": 14,
      "metadata": {
        "id": "YrSjaqahvtdF"
      },
      "outputs": [],
      "source": [
        "# Initialize a camera.\n",
        "# World coordinates +Y up, +X left and +Z in.\n",
        "R, T = look_at_view_transform(5, 0, 0) \n",
        "cameras = FoVPerspectiveCameras(device=device, R=R, T=T)\n",
        "\n",
        "# Define the settings for rasterization and shading. Here we set the output image to be of size\n",
        "# 512x512. As we are rendering images for visualization purposes only we will set faces_per_pixel=1\n",
        "# and blur_radius=0.0. \n",
        "raster_settings = RasterizationSettings(\n",
        "    image_size=512, \n",
        "    blur_radius=0.0, \n",
        "    faces_per_pixel=1, \n",
        ")\n",
        "\n",
        "# Place a point light in front of the person. \n",
        "lights = PointLights(device=device, location=[[0.0, 0.0, 2.0]])\n",
        "\n",
        "# Create a Phong renderer by composing a rasterizer and a shader. The textured Phong shader will \n",
        "# interpolate the texture uv coordinates for each vertex, sample from a texture image and \n",
        "# apply the Phong lighting model\n",
        "renderer = MeshRenderer(\n",
        "    rasterizer=MeshRasterizer(\n",
        "        cameras=cameras, \n",
        "        raster_settings=raster_settings\n",
        "    ),\n",
        "    shader=SoftPhongShader(\n",
        "        device=device, \n",
        "        cameras=cameras,\n",
        "        lights=lights\n",
        "    )\n",
        ")"
      ]
    },
    {
      "cell_type": "code",
      "execution_count": 15,
      "metadata": {
        "colab": {
          "base_uri": "https://localhost:8080/",
          "height": 575
        },
        "id": "5IWK3ssj3zv1",
        "outputId": "6042f1c3-61d9-4822-eda9-0c7eb3e8e4b3"
      },
      "outputs": [
        {
          "data": {
            "image/png": "[encoded data removed]",
            "text/plain": [
              "<Figure size 720x720 with 1 Axes>"
            ]
          },
          "metadata": {
            "needs_background": "light"
          },
          "output_type": "display_data"
        }
      ],
      "source": [
        "images = renderer(meshes.to(device), lights=lights.to(device), cameras=cameras.to(device))\n",
        "plt.figure(figsize=(10, 10))\n",
        "plt.imshow(images[0, ..., :3].detach().cpu().numpy())\n",
        "plt.axis(\"off\");"
      ]
    }
  ],
  "metadata": {
    "accelerator": "GPU",
    "bento_stylesheets": {
      "bento/extensions/flow/main.css": true,
      "bento/extensions/kernel_selector/main.css": true,
      "bento/extensions/kernel_ui/main.css": true,
      "bento/extensions/new_kernel/main.css": true,
      "bento/extensions/system_usage/main.css": true,
      "bento/extensions/theme/main.css": true
    },
    "colab": {
      "include_colab_link": true,
      "name": "render_AGORA.ipynb",
      "provenance": []
    },
    "kernelspec": {
      "display_name": "pytorch3d_etc (local)",
      "language": "python",
      "name": "pytorch3d_etc_local"
    },
    "language_info": {
      "codemirror_mode": {
        "name": "ipython",
        "version": 3
      },
      "file_extension": ".py",
      "mimetype": "text/x-python",
      "name": "python",
      "nbconvert_exporter": "python",
      "pygments_lexer": "ipython3",
      "version": "3.7.5+"
    }
  },
  "nbformat": 4,
  "nbformat_minor": 0
}
